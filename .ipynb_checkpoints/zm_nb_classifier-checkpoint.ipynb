{
 "cells": [
  {
   "cell_type": "markdown",
   "metadata": {},
   "source": [
    "# Assignment  Practice Text classification with Naive Bayes "
   ]
  },
  {
   "cell_type": "markdown",
   "metadata": {},
   "source": [
    "## Notebook made by   (If not filled in correctly: 0 pts for assignment)\n",
    "\n",
    "__Name(s)__: \n",
    "\n",
    "__Student id(s)__ : \n",
    "\n",
    "### Pledge (taken from [Coursera's Honor Code](https://www.coursera.org/about/terms/honorcode) )\n",
    "\n",
    "\n",
    "\n",
    "Put here a selfie with your photo where you hold a signed paper with the following text: (if this is team work, put two selfies here). The link must be to some place on the web, not to a local file. **Assignments without the selfies will not be graded and receive 0 points.**\n",
    "\n",
    "> My answers to homework, quizzes and exams will be my own work (except for assignments that explicitly permit collaboration).\n",
    "\n",
    ">I will not make solutions to homework, quizzes or exams available to anyone else. This includes both solutions written by me, as well as any official solutions provided by the course staff.\n",
    "\n",
    ">I will not engage in any other activities that will dishonestly improve my results or dishonestly improve/hurt the results of others.\n",
    "\n",
    "<img src='link to your selfie'/>"
   ]
  },
  {
   "cell_type": "markdown",
   "metadata": {},
   "source": [
    "# Some example code"
   ]
  },
  {
   "cell_type": "code",
   "execution_count": 2,
   "metadata": {
    "collapsed": false
   },
   "outputs": [
    {
     "name": "stdout",
     "output_type": "stream",
     "text": [
      "(40516, 6)\n"
     ]
    },
    {
     "data": {
      "text/html": [
       "<div>\n",
       "<table border=\"1\" class=\"dataframe\">\n",
       "  <thead>\n",
       "    <tr style=\"text-align: right;\">\n",
       "      <th></th>\n",
       "      <th>jaar</th>\n",
       "      <th>partij</th>\n",
       "      <th>titel</th>\n",
       "      <th>vraag</th>\n",
       "      <th>antwoord</th>\n",
       "      <th>ministerie</th>\n",
       "    </tr>\n",
       "  </thead>\n",
       "  <tbody>\n",
       "    <tr>\n",
       "      <th>KVR1000.xml</th>\n",
       "      <td>1994</td>\n",
       "      <td>PvdA</td>\n",
       "      <td>De vragen betreffen de betrouwbaarheid van de...</td>\n",
       "      <td>Hebt u kennisgenomen van het televisieprogram...</td>\n",
       "      <td>Ja. Het bedoelde geluidmeetpunt is eigendom v...</td>\n",
       "      <td>Verkeer en Waterstaat</td>\n",
       "    </tr>\n",
       "    <tr>\n",
       "      <th>KVR10000.xml</th>\n",
       "      <td>1999</td>\n",
       "      <td>PvdA</td>\n",
       "      <td>Vragen naar aanleiding van berichten (uitzend...</td>\n",
       "      <td>Kent u de berichten over de situatie in de Me...</td>\n",
       "      <td></td>\n",
       "      <td>Justitie</td>\n",
       "    </tr>\n",
       "    <tr>\n",
       "      <th>KVR10001.xml</th>\n",
       "      <td>1999</td>\n",
       "      <td>SP</td>\n",
       "      <td>Vragen naar aanleiding van de berichten \"Nede...</td>\n",
       "      <td>Kent u de berichten «Nederland steunt de Soeh...</td>\n",
       "      <td></td>\n",
       "      <td>Financien</td>\n",
       "    </tr>\n",
       "    <tr>\n",
       "      <th>KVR10002.xml</th>\n",
       "      <td>1999</td>\n",
       "      <td>PvdA</td>\n",
       "      <td>Vragen over de gebrekkige opvang van verpleeg...</td>\n",
       "      <td>Kent u het bericht over onderzoek van Nu91 me...</td>\n",
       "      <td>Ja. Het onderzoek van NU’91 wijst uit dat het...</td>\n",
       "      <td>Volksgezondheid, Welzijn en Sport</td>\n",
       "    </tr>\n",
       "    <tr>\n",
       "      <th>KVR10003.xml</th>\n",
       "      <td>1999</td>\n",
       "      <td>PvdA</td>\n",
       "      <td>Vragen over onbetrouwbaarheid van filemeldingen.</td>\n",
       "      <td>Hebt u kennisgenomen van de berichten over de...</td>\n",
       "      <td>Ja. Nee. Door de waarnemers van het Algemeen ...</td>\n",
       "      <td>Verkeer en Waterstaat</td>\n",
       "    </tr>\n",
       "  </tbody>\n",
       "</table>\n",
       "</div>"
      ],
      "text/plain": [
       "                jaar partij  \\\n",
       "KVR1000.xml     1994   PvdA   \n",
       " KVR10000.xml   1999   PvdA   \n",
       " KVR10001.xml   1999     SP   \n",
       " KVR10002.xml   1999   PvdA   \n",
       " KVR10003.xml   1999   PvdA   \n",
       "\n",
       "                                                           titel  \\\n",
       "KVR1000.xml     De vragen betreffen de betrouwbaarheid van de...   \n",
       " KVR10000.xml   Vragen naar aanleiding van berichten (uitzend...   \n",
       " KVR10001.xml   Vragen naar aanleiding van de berichten \"Nede...   \n",
       " KVR10002.xml   Vragen over de gebrekkige opvang van verpleeg...   \n",
       " KVR10003.xml   Vragen over onbetrouwbaarheid van filemeldingen.   \n",
       "\n",
       "                                                           vraag  \\\n",
       "KVR1000.xml     Hebt u kennisgenomen van het televisieprogram...   \n",
       " KVR10000.xml   Kent u de berichten over de situatie in de Me...   \n",
       " KVR10001.xml   Kent u de berichten «Nederland steunt de Soeh...   \n",
       " KVR10002.xml   Kent u het bericht over onderzoek van Nu91 me...   \n",
       " KVR10003.xml   Hebt u kennisgenomen van de berichten over de...   \n",
       "\n",
       "                                                        antwoord  \\\n",
       "KVR1000.xml     Ja. Het bedoelde geluidmeetpunt is eigendom v...   \n",
       " KVR10000.xml                                                      \n",
       " KVR10001.xml                                                      \n",
       " KVR10002.xml   Ja. Het onderzoek van NU’91 wijst uit dat het...   \n",
       " KVR10003.xml   Ja. Nee. Door de waarnemers van het Algemeen ...   \n",
       "\n",
       "                                       ministerie  \n",
       "KVR1000.xml                 Verkeer en Waterstaat  \n",
       " KVR10000.xml                            Justitie  \n",
       " KVR10001.xml                           Financien  \n",
       " KVR10002.xml   Volksgezondheid, Welzijn en Sport  \n",
       " KVR10003.xml               Verkeer en Waterstaat  "
      ]
     },
     "execution_count": 2,
     "metadata": {},
     "output_type": "execute_result"
    }
   ],
   "source": [
    "import pandas as pd\n",
    "\n",
    "# normal KVR.csv.gz\n",
    "# subset = KVR1000.csv.gz\n",
    "kvrdf= pd.read_csv('KVR.csv.gz', \n",
    "                   sep='\\t', encoding='utf-8',\n",
    "                   index_col=0, \n",
    "                   names=['jaar', 'partij','titel','vraag','antwoord','ministerie']) \n",
    "print (kvrdf.shape)\n",
    "kvrdf.head()"
   ]
  },
  {
   "cell_type": "code",
   "execution_count": 3,
   "metadata": {
    "collapsed": false
   },
   "outputs": [
    {
     "data": {
      "text/plain": [
       "40516"
      ]
     },
     "execution_count": 3,
     "metadata": {},
     "output_type": "execute_result"
    }
   ],
   "source": [
    "len(kvrdf)"
   ]
  },
  {
   "cell_type": "code",
   "execution_count": 4,
   "metadata": {
    "collapsed": false
   },
   "outputs": [],
   "source": [
    "# USE FIRST 27000 entries (later entries have no label and are therefore not helpful)\n",
    "\n",
    "# use 0.8 * 27000 = 21600 entries for training\n",
    "# use 0.2 * 27000 = 5400 for testing"
   ]
  },
  {
   "cell_type": "code",
   "execution_count": 5,
   "metadata": {
    "collapsed": false
   },
   "outputs": [
    {
     "data": {
      "text/plain": [
       " Justitie (JUS)                                                   3219\n",
       " Volksgezondheid, Welzijn en Sport (VWS)                          2630\n",
       " Buitenlandse Zaken (BUZA)                                        1796\n",
       " Verkeer en Waterstaat (VW)                                       1441\n",
       " Justitie                                                         1333\n",
       " Sociale Zaken en Werkgelegenheid (SZW)                           1231\n",
       " Onderwijs, Cultuur en Wetenschappen (OCW)                        1187\n",
       " Volkshuisvesting, Ruimtelijke Ordening en Milieubeheer (VROM)     984\n",
       " Financiën (FIN)                                                   960\n",
       " Volksgezondheid, Welzijn en Sport                                 951\n",
       "Name: ministerie, dtype: int64"
      ]
     },
     "execution_count": 5,
     "metadata": {},
     "output_type": "execute_result"
    }
   ],
   "source": [
    "kvrdf.ministerie.value_counts().head(10)"
   ]
  },
  {
   "cell_type": "code",
   "execution_count": 6,
   "metadata": {
    "collapsed": false
   },
   "outputs": [
    {
     "name": "stdout",
     "output_type": "stream",
     "text": [
      "5095344  De vragen betreffen de betrouwbaarheid van de geluidsmetingen op Schiphol\n",
      " Vragen naar aanleiding van berichten uitzending NOVA 17 juli 1999 over onderzoeken van de Rijksrecherche waaruit blijt dat er twijfels bestaan over het professioneel gedrag van vier medewerkers van de kliniek\n",
      " Vragen naar aanleiding van de berichten Nederland steunt Soehartos fiscaal en Wij hebben een naam hoog te houden in NRC van 22 juli 1999\n",
      " Vragen over de gebrekkige opvang van verpleegkundigen met traumatische ervaringen door ziekenhuizen en zorginstellingen\n",
      " Vragen over onbetrouwbaarheid van filemeldingen\n",
      " Vragen naar aanleiding van het bericht in de Volkskrant van 7 juli 1999 dat het RIVM onjuiste gegevens zou hebben gehanteerd en gepresenteerd wat betreft de milieuaspecten van de Betuwelijn\n",
      " \n",
      " Vragen naar aanleiding van het artikel Eilander artsen vechten voor waarneming in de Leeuwarder Courant van 26 juni 1999 Deze vragen dienen ter aanvulling op eerdere vragen van de leden Van BlerckWoerdman en Te Ve\n"
     ]
    }
   ],
   "source": [
    "import nltk\n",
    "import string\n",
    "from collections import Counter\n",
    "\n",
    "# Join all titels of the questions together\n",
    "# use first 21600 entries for training\n",
    "allvragen = '\\n'.join(str(v) for v in list(kvrdf.titel[:21600]))\n",
    "\n",
    "# remove punctuation\n",
    "allvragen = allvragen.translate(str.maketrans({key: None for key in string.punctuation}))\n",
    "\n",
    "\n",
    "print (len(allvragen), allvragen[:1000])"
   ]
  },
  {
   "cell_type": "code",
   "execution_count": 7,
   "metadata": {
    "collapsed": false
   },
   "outputs": [
    {
     "data": {
      "text/plain": [
       "[('van', 53325),\n",
       " ('de', 50554),\n",
       " ('het', 24522),\n",
       " ('in', 18867),\n",
       " ('en', 15917),\n",
       " ('over', 15288),\n",
       " ('Vragen', 15243),\n",
       " ('een', 14603),\n",
       " ('naar', 11928),\n",
       " ('op', 9832),\n",
       " ('aanleiding', 9038),\n",
       " ('dat', 8645),\n",
       " ('voor', 7654),\n",
       " ('te', 7440),\n",
       " ('met', 5642),\n",
       " ('vragen', 5351),\n",
       " ('is', 4742),\n",
       " ('aan', 4642),\n",
       " ('die', 4612),\n",
       " ('om', 4299)]"
      ]
     },
     "execution_count": 7,
     "metadata": {},
     "output_type": "execute_result"
    }
   ],
   "source": [
    "# Tokenize and turn into a bag of words\n",
    "BoW = Counter(nltk.word_tokenize(allvragen))\n",
    "# show the top 20 most used words \n",
    "BoW.most_common(20)"
   ]
  },
  {
   "cell_type": "code",
   "execution_count": 8,
   "metadata": {
    "collapsed": false
   },
   "outputs": [
    {
     "name": "stdout",
     "output_type": "stream",
     "text": [
      "101\n"
     ]
    },
    {
     "data": {
      "text/plain": [
       "[('Vragen', 15243),\n",
       " ('aanleiding', 9038),\n",
       " ('vragen', 5351),\n",
       " ('De', 3524),\n",
       " ('bericht', 3356),\n",
       " ('2007', 2185),\n",
       " ('minister', 2129),\n",
       " ('artikel', 2128),\n",
       " ('eerdere', 2008),\n",
       " ('Indiener', 1908),\n",
       " ('Nederland', 1835),\n",
       " ('Nederlandse', 1833),\n",
       " ('ingezonden', 1800),\n",
       " ('nr', 1558),\n",
       " ('lid', 1374),\n",
       " ('2006', 1314),\n",
       " ('Handelingen', 1305),\n",
       " ('Dagblad', 1262),\n",
       " ('2005', 1249),\n",
       " ('Aanhangsel', 1221)]"
      ]
     },
     "execution_count": 8,
     "metadata": {},
     "output_type": "execute_result"
    }
   ],
   "source": [
    "from nltk.corpus import stopwords\n",
    "\n",
    "DutchStop= stopwords.words('dutch')\n",
    "print (len(DutchStop))\n",
    "\n",
    "BoW = Counter([w for w in nltk.word_tokenize(allvragen) if not w in set(DutchStop)])\n",
    "# show the top 20 most used words \n",
    "BoW.most_common(20)"
   ]
  },
  {
   "cell_type": "markdown",
   "metadata": {},
   "source": [
    "# Practice Text classification with Naive Bayes  \n",
    "        \n",
    "        \n",
    "        \n",
    "<h3>Abstract</h3>\n",
    "<p>We will do text classification on a collection of Dutch parliamentary questions.\n",
    "    The website <a href=\"https://zoek.officielebekendmakingen.nl/zoeken/parlementaire_documenten\">officielebekendmakingen.nl</a>lets you search in \"kamervragen\".\n",
    "    You can donwload\n",
    "    <a href='http://data.politicalmashup.nl/kamervragen/PoliDocs_Kamervragen.zip'>this zipfile with Kamervragen in XML</a>\n",
    "    to see some of the  data in XML format. \n",
    "    It also contains style sheets to show the XML well in a browser.  \n",
    "    The <a href='http://maartenmarx.nl/teaching/zoekmachines/LectureNotes/MySQL/'>MYSQL directory</a> contains an <a href='http://maartenmarx.nl/teaching/zoekmachines/LectureNotes/MySQL/KVR14807.xml'>example   Kamervraag XML file</a>. Note that in your browser you see the result of applying stylesheets. So choose View Source or open it in an editor.</p>\n",
    "\n",
    "<h3>First exploration</h3>\n",
    "\n",
    "See below.\n",
    "\n",
    "<h2>Exercise</h2>\n",
    "\n",
    "<p>We will use the fields in elements of the form <tt> &lt;item attribuut=\"Afkomstig_van\"></tt> as our classes. \n",
    "    These are the ministeries to whom the question is addressed.\n",
    "    An example is \n",
    "    <pre>\n",
    "        &lt;item attribuut=\"Afkomstig_van\">Landbouw, Natuurbeheer en Visserij (LNV)&lt;/item>\n",
    "    </pre>\n",
    "    Note that these labels are <strong>not normalized</strong>, see e.g. the counts below:\n",
    "    <pre>\n",
    "Justitie (JUS)                                                   3219\n",
    "Volksgezondheid, Welzijn en Sport (VWS)                          2630\n",
    "Buitenlandse Zaken (BUZA)                                        1796\n",
    "Verkeer en Waterstaat (VW)                                       1441\n",
    "Justitie                                                         1333\n",
    "Sociale Zaken en Werkgelegenheid (SZW)                           1231\n",
    "Onderwijs, Cultuur en Wetenschappen (OCW)                        1187\n",
    "Volkshuisvesting, Ruimtelijke Ordening en Milieubeheer (VROM)     984\n",
    "FinanciÃ«n (FIN)                                                   960\n",
    "Volksgezondheid, Welzijn en Sport                                 951\n",
    "Economische Zaken (EZ)                                            946\n",
    "Buitenlandse Zaken                                                753\n",
    "Binnenlandse Zaken en Koninkrijksrelaties (BZK)                   725\n",
    "Verkeer en Waterstaat                                             724\n",
    "Defensie (DEF)                                                    646\n",
    "Sociale Zaken en Werkgelegenheid                                  607\n",
    "Landbouw, Natuurbeheer en Visserij (LNV)                          586\n",
    "Volkshuisvesting, Ruimtelijke Ordening en Milieubeheer            554\n",
    "Onderwijs, Cultuur en Wetenschappen                               532\n",
    "Vreemdelingenzaken en Integratie (VI)                             466\n",
    "    </pre>\n",
    "</p>\n",
    "\n",
    "  <ol>\n",
    "      <li>Normalize the values for \"ministerie\" and choose 10 ministeries to work with. </li>\n",
    "      <li>Implement the two algorithms in Fig MRS.13.2, using your earlier code for creating term and document frequencies.\n",
    "      It might be easier to use the representation and formula given in MRS section 13.4.1.</li>\n",
    "      <li>On this collection, train NB text classifiers for 10 different classes with enough and interesting data.</li>\n",
    "      <li>Compute for each term and each of your 10 classes its utility for that class using mutual information.</li>\n",
    "      <li>For each class, show the top 10 words as in Figure 13.7 in MRS.</li>\n",
    "      <li>Evaluate your classifiers using Precision, Recall and F1. (\n",
    "           <br/>\n",
    "          Give a table in which you show these values for using the top 10, top 100 terms and all terms, for all of your 10 classes.\n",
    "          Thus do feature selection per class, and use for each class the top n best features for that class. \n",
    "          <br/>\n",
    "      Also show the microaverage(s) for all 10 classes together.\n",
    "      <br/>\n",
    "      If you like you can also present this in a figure like MRS.13.8. \n",
    "      Then compute the F1 measure for the same number of terms as in that figure.</li>\n",
    "      <li>Reflect and report briefly about your choices in this process and about the obtained results. </li>\n",
    "  </ol>\n",
    "\n",
    "<h3>Training/Testing</h3>\n",
    "<p>It is important that you do not test your classifier using documents that have also been used in training.\n",
    "    So split up your collection in a training set and a test set. A 80%-20% split is reasonable.\n",
    "\n",
    "<br/>\n",
    "    If you have too little data you can use 5 or <a href=\"http://en.wikipedia.org/wiki/Cross-validation_(statistics)#k-fold_cross-validation\">10-fold cross validation</a>.</p>\n",
    "\n",
    "<h2>Form of presentation</h2>\n",
    "<ul>\n",
    "    <li>Make slides or wikipages and have your system running and be able to accept documents from the web. </li>\n",
    "    <li>Create one or two slides or wikipages for each of the sub exercises listed above.\n",
    "</li>\n",
    "<li>Make it clear in the heading of the slides which sub exercises you talk about.</li>\n",
    "    <li>Show running code with one or two  good examples (a TP of course, but also a FP and an error-analysis is nice to show). </li>\n",
    "\n",
    "</ul>\n",
    "\n",
    "<h2>Form of handing in your final product</h2>\n",
    "<ul>\n",
    "    <li>An IPython notebook would be perfect, with clear indications which part of the code answers which subquestion.</li>\n",
    "    <li>A clear git repo, with good comments and a clear separation and indication what code does what is also fine.</li>\n",
    "    <li> You are free to program in whatever language you prefer.</li>\n",
    "</ul>\n"
   ]
  },
  {
   "cell_type": "markdown",
   "metadata": {
    "collapsed": true
   },
   "source": [
    "### Question 1"
   ]
  },
  {
   "cell_type": "code",
   "execution_count": 9,
   "metadata": {
    "collapsed": false
   },
   "outputs": [
    {
     "data": {
      "text/plain": [
       " Justitie (JUS)                                                   3006\n",
       " Volksgezondheid, Welzijn en Sport (VWS)                          2471\n",
       " Buitenlandse Zaken (BUZA)                                        1704\n",
       " Verkeer en Waterstaat (VW)                                       1330\n",
       " Sociale Zaken en Werkgelegenheid (SZW)                           1130\n",
       " Onderwijs, Cultuur en Wetenschappen (OCW)                        1113\n",
       " Volkshuisvesting, Ruimtelijke Ordening en Milieubeheer (VROM)     902\n",
       " Financiën (FIN)                                                   891\n",
       " Economische Zaken (EZ)                                            877\n",
       " Binnenlandse Zaken en Koninkrijksrelaties (BZK)                   716\n",
       " Defensie (DEF)                                                    590\n",
       " Justitie                                                          517\n",
       " Landbouw, Natuurbeheer en Visserij (LNV)                          502\n",
       " Vreemdelingenzaken en Integratie (VI)                             466\n",
       " Landbouw, Natuur en Voedselkwaliteit (LNV)                        421\n",
       " Buitenlandse Zaken                                                377\n",
       " Volksgezondheid, Welzijn en Sport                                 374\n",
       " Verkeer en Waterstaat                                             322\n",
       " Sociale Zaken en Werkgelegenheid                                  266\n",
       " Volkshuisvesting, Ruimtelijke Ordening en Milieubeheer            259\n",
       "Name: ministerie, dtype: int64"
      ]
     },
     "execution_count": 9,
     "metadata": {},
     "output_type": "execute_result"
    }
   ],
   "source": [
    "kvrdf.ministerie[:21600].value_counts().head(20)"
   ]
  },
  {
   "cell_type": "code",
   "execution_count": 10,
   "metadata": {
    "collapsed": false
   },
   "outputs": [
    {
     "name": "stdout",
     "output_type": "stream",
     "text": [
      " Justitie (JUS)                                                   0.139742\n",
      " Volksgezondheid, Welzijn en Sport (VWS)                          0.114871\n",
      " Buitenlandse Zaken (BUZA)                                        0.079215\n",
      " Verkeer en Waterstaat (VW)                                       0.061829\n",
      " Sociale Zaken en Werkgelegenheid (SZW)                           0.052531\n",
      " Onderwijs, Cultuur en Wetenschappen (OCW)                        0.051741\n",
      " Volkshuisvesting, Ruimtelijke Ordening en Milieubeheer (VROM)    0.041932\n",
      " Financiën (FIN)                                                  0.041421\n",
      " Economische Zaken (EZ)                                           0.040770\n",
      " Binnenlandse Zaken en Koninkrijksrelaties (BZK)                  0.033285\n",
      "Name: ministerie, dtype: float64\n"
     ]
    }
   ],
   "source": [
    "normalized_ministerie = kvrdf.ministerie[:21600].value_counts().head(10) / sum(kvrdf.ministerie[:21600].value_counts())\n",
    "\n",
    "print(normalized_ministerie)\n",
    "# choice of ministeries: top 10"
   ]
  },
  {
   "cell_type": "code",
   "execution_count": 11,
   "metadata": {
    "collapsed": false
   },
   "outputs": [],
   "source": [
    "ministerie_names = list(normalized_ministerie.keys())"
   ]
  },
  {
   "cell_type": "markdown",
   "metadata": {},
   "source": [
    "### Question 2"
   ]
  },
  {
   "cell_type": "code",
   "execution_count": 12,
   "metadata": {
    "collapsed": false
   },
   "outputs": [
    {
     "name": "stdout",
     "output_type": "stream",
     "text": [
      "1\n",
      "2\n",
      "3\n",
      "4\n",
      "5\n",
      "6\n",
      "7\n",
      "8\n",
      "9\n",
      "10\n"
     ]
    }
   ],
   "source": [
    "# for all classes, concatenate all 'vragen'\n",
    "\n",
    "V = list(BoW)\n",
    "text = []\n",
    "for c in range(len(normalized_ministerie)):\n",
    "    text.append([])\n",
    "    prior_c = normalized_ministerie[c]\n",
    "    ministerie = kvrdf.ministerie[:21600].value_counts().keys()[c]\n",
    "    print(c+1)\n",
    "    \n",
    "    for d in range(len(kvrdf.ministerie[:21600])):\n",
    "        # only check first 8 characters of string.\n",
    "        # assumption: if first 8 characters match --> same ministerie \n",
    "        # this way, we solve 'Justitie' not equal to 'Justitie (JUS)'\n",
    "        if(str(ministerie)[:8] == str(kvrdf.ministerie[d])[:8]):\n",
    "            text_document = kvrdf.titel[d].translate(str.maketrans({key: None for key in string.punctuation}))\n",
    "            text[c].append(text_document)"
   ]
  },
  {
   "cell_type": "code",
   "execution_count": 13,
   "metadata": {
    "collapsed": false
   },
   "outputs": [],
   "source": [
    "# make BoW representation\n",
    "def countTokensOfTerm(text, n_class):\n",
    "    wordstring = ''.join(text[n_class])\n",
    "    \n",
    "    # Tokenize and turn into a bag of words\n",
    "    DutchStop= stopwords.words('dutch')\n",
    "    BoW_class = Counter([w for w in nltk.word_tokenize(wordstring) if not w in set(DutchStop)])\n",
    "   \n",
    "    return BoW_class"
   ]
  },
  {
   "cell_type": "code",
   "execution_count": 14,
   "metadata": {
    "collapsed": false
   },
   "outputs": [],
   "source": [
    "BoW_classes = list()\n",
    "\n",
    "# for all 10 classes, make BoW representation\n",
    "for i in range(len(normalized_ministerie)):\n",
    "    BoW_classes.append(countTokensOfTerm(text, i))"
   ]
  },
  {
   "cell_type": "code",
   "execution_count": 15,
   "metadata": {
    "collapsed": false
   },
   "outputs": [
    {
     "name": "stdout",
     "output_type": "stream",
     "text": [
      "0.0005246152821264406\n",
      "9.490097083693167e-06\n",
      "1.1080209637566344e-05\n",
      "1.3042060645582003e-05\n",
      "1.3734565781702812e-05\n",
      "1.2829394709157622e-05\n"
     ]
    }
   ],
   "source": [
    "# calculate conditional probability of term t in class c    \n",
    "def condprob(c, t):\n",
    "    vocabulary_length = len(BoW)\n",
    "    \n",
    "    Tct = BoW_classes[c][t]\n",
    "    #print(\"Tct: \",Tct)\n",
    "    \n",
    "    # Tct_neg = sum of everything not Tct\n",
    "    Tct_neg = sum(BoW_classes[c].values()) - Tct\n",
    "    #print(\"Tct_neg: \", Tct_neg)\n",
    "   \n",
    "    #conprob[c][t] = \n",
    "    return (Tct + 1) / (Tct_neg +  vocabulary_length)\n",
    "\n",
    "\n",
    "print(condprob(0, 'kinderporno'))\n",
    "print(condprob(1, 'kinderporno'))\n",
    "print(condprob(2, 'kinderporno'))\n",
    "print(condprob(3, 'kinderporno'))\n",
    "print(condprob(4, 'kinderporno'))\n",
    "print(condprob(5, 'kinderporno'))\n",
    "\n",
    "\n",
    "# intuitief klopt want Justitie hoge score op 'kinderporno'\n",
    "    "
   ]
  },
  {
   "cell_type": "code",
   "execution_count": 16,
   "metadata": {
    "collapsed": false
   },
   "outputs": [
    {
     "name": "stdout",
     "output_type": "stream",
     "text": [
      "0.0019346392148033257\n",
      "0.0001423703717764975\n",
      "0.00023273597765734614\n",
      "0.00013043591683405942\n",
      "1.3734565781702812e-05\n",
      "8.981267641775726e-05\n"
     ]
    }
   ],
   "source": [
    "print(condprob(0, 'politie'))\n",
    "print(condprob(1, 'politie'))\n",
    "print(condprob(2, 'politie'))\n",
    "print(condprob(3, 'politie'))\n",
    "print(condprob(4, 'politie'))\n",
    "print(condprob(5, 'politie'))"
   ]
  },
  {
   "cell_type": "code",
   "execution_count": 17,
   "metadata": {
    "collapsed": false
   },
   "outputs": [
    {
     "name": "stdout",
     "output_type": "stream",
     "text": [
      " Verkeer en Waterstaat (VW) :  -35.58159331334153\n",
      " Volkshuisvesting, Ruimtelijke Ordening en Milieubeheer (VROM) :  -36.370387237895926\n",
      " Economische Zaken (EZ) :  -37.693770259335636\n",
      " Sociale Zaken en Werkgelegenheid (SZW) :  -37.83026213025033\n",
      " Financiën (FIN) :  -37.88609738517333\n",
      " Binnenlandse Zaken en Koninkrijksrelaties (BZK) :  -37.94160796938409\n",
      " Onderwijs, Cultuur en Wetenschappen (OCW) :  -38.09790104283042\n",
      " Justitie (JUS) :  -38.20048894076771\n",
      " Volksgezondheid, Welzijn en Sport (VWS) :  -38.38476427411192\n",
      " Buitenlandse Zaken (BUZA) :  -38.82533432946341\n"
     ]
    }
   ],
   "source": [
    "import math\n",
    "\n",
    "# USE FIRST 27000 entries (later entries have no 'ministerie' label and are therefore not helpful)\n",
    "# use 0.8 * 27000 = 21600 entries for training\n",
    "# use 0.2 * 27000 = 5400 for testing\n",
    "\n",
    "\n",
    "# input: d (to be classified document), classes_prior (classes and their probabilities)\n",
    "# output: scores for all d - class pairs\n",
    "def applyMultinomialNB(d, classes_prior):\n",
    "    # get tokens out of to_be_classified\n",
    "    BoW_d = Counter([w for w in nltk.word_tokenize(str(d).translate(str.maketrans({key: None for key in string.punctuation}))) if not w in set(stopwords.words('dutch'))])\n",
    "    scores = dict()\n",
    "    \n",
    "    # scores = p_c + conprob\n",
    "    for i in range(len(classes_prior)):\n",
    "        # p_c\n",
    "        scores[i] = math.log10(classes_prior[i])\n",
    "\n",
    "        # for every term calculate conprob\n",
    "        for token in BoW_d:\n",
    "                # calculate conprob of token and class * n of occurrences of token\n",
    "                scores[i] += math.log10(condprob(i, token)) * BoW_d[token]\n",
    "                    \n",
    "    return scores\n",
    "\n",
    "\n",
    "testdoc = kvrdf.titel.head(40515)[22201:][0]\n",
    "\n",
    "scores = applyMultinomialNB(testdoc, normalized_ministerie)\n",
    "\n",
    "sorted_scores = sorted(scores.items(), key=lambda x : x[1], reverse=True)\n",
    "for minis, score in sorted_scores:\n",
    "    print(ministerie_names[minis], ': ',score)"
   ]
  },
  {
   "cell_type": "code",
   "execution_count": 18,
   "metadata": {
    "collapsed": false
   },
   "outputs": [
    {
     "data": {
      "text/plain": [
       "' Betreft een gedoogbeschikking voor het lozen van retourperswater, door Rijkswaterstaat afgegeven voor een slibdepot in het Ketelmeer.'"
      ]
     },
     "execution_count": 18,
     "metadata": {},
     "output_type": "execute_result"
    }
   ],
   "source": [
    "kvrdf.titel.head(40515)[22201:][0]"
   ]
  },
  {
   "cell_type": "code",
   "execution_count": 19,
   "metadata": {
    "collapsed": false
   },
   "outputs": [
    {
     "data": {
      "text/plain": [
       "' Verkeer en Waterstaat'"
      ]
     },
     "execution_count": 19,
     "metadata": {},
     "output_type": "execute_result"
    }
   ],
   "source": [
    "kvrdf.ministerie.head(40515)[22201:][0]"
   ]
  },
  {
   "cell_type": "markdown",
   "metadata": {},
   "source": [
    "### Question 4"
   ]
  },
  {
   "cell_type": "code",
   "execution_count": 20,
   "metadata": {
    "collapsed": false,
    "scrolled": true
   },
   "outputs": [],
   "source": [
    "def vraag_in_c(clss):\n",
    "    in_c = list()\n",
    "\n",
    "    for i in range(len(kvrdf.titel[:21600])):\n",
    "        current_ministerie = str(kvrdf.ministerie[i])\n",
    "        ministerie_clss = ministerie_names[clss] \n",
    "        # use first 8 characters of string for comparison\n",
    "        if current_ministerie[:8] == ministerie_clss[:8]:\n",
    "            in_c.append(i)\n",
    "    return in_c\n",
    "    \n",
    "# loop through all classes, fill list with all 'vragen' per class\n",
    "vragen_in_c = list()\n",
    "for i in range(len(normalized_ministerie)):\n",
    "    vragen_in_c.append(vraag_in_c(i))"
   ]
  },
  {
   "cell_type": "code",
   "execution_count": 21,
   "metadata": {
    "collapsed": false
   },
   "outputs": [],
   "source": [
    "# make index that looks like:\n",
    "# {term : [list with positions of vragen where term occurs]}\n",
    "\n",
    "from collections import defaultdict\n",
    "\n",
    "def index_t():\n",
    "    index_t = defaultdict(list)\n",
    "    \n",
    "    for i in range(len(kvrdf.titel[:21600])):\n",
    "        vraag = [w for w in nltk.word_tokenize(str(kvrdf.titel[i]).translate(str.maketrans({key: None for key in string.punctuation}))) if not w in set(DutchStop)]\n",
    "        for t in vraag:\n",
    "            index_t.setdefault(t,list()).append(i)\n",
    "    \n",
    "    return index_t\n",
    "\n",
    "index_t = index_t()"
   ]
  },
  {
   "cell_type": "code",
   "execution_count": 114,
   "metadata": {
    "collapsed": false
   },
   "outputs": [
    {
     "data": {
      "text/plain": [
       "0.0021075840763242278"
      ]
     },
     "execution_count": 114,
     "metadata": {},
     "output_type": "execute_result"
    }
   ],
   "source": [
    "#Compute for each term and each of your 10 classes its utility for that class using mutual information.\n",
    "import time\n",
    "\n",
    "def mutualInformation(t, c):\n",
    "    N = 21600\n",
    "    all_questions = set(list(range(N)))\n",
    "        \n",
    "    # find all 'vragen' in c\n",
    "    v_in_c = set(vragen_in_c[c])\n",
    "    \n",
    "    # find all 'vragen' not in c\n",
    "    v_not_in_c = all_questions - v_in_c\n",
    "    \n",
    "    # find all 'vragen' that contain term\n",
    "    v_with_t = index_t[t]\n",
    "    \n",
    "    N11 = len(v_in_c.intersection(v_with_t))\n",
    "    N01 = len(v_in_c) - N11\n",
    "    N10 = len(v_not_in_c.intersection(v_with_t))\n",
    "    N00 = len(v_not_in_c) - N10\n",
    "    \n",
    "#     Misschien een oplossing dit onderstaande voor math domain error\n",
    "    if(N11 == 0 or N10 == 0 or N01 == 0 or N00 == 0):\n",
    "        return 0\n",
    "    \n",
    "    \n",
    "    \n",
    "    return (N11/N) * math.log2((N*N11) / ((N11+N10)*(N11+N01))) + (N01/N) * math.log2((N*N01) / ((N01+N00)*(N11+N01))) + (N10/N) * math.log2((N*N10) / ((N11+N10)*(N10+N00))) + (N00/N) * math.log2((N*N00) / ((N01+N00)*(N10+N00)))\n",
    "\n",
    "mutualInformation('vervolgen', 0)\n",
    "\n",
    "\n",
    "# problem: sometimes math error (divide by 0 etc)"
   ]
  },
  {
   "cell_type": "code",
   "execution_count": 23,
   "metadata": {
    "collapsed": false
   },
   "outputs": [
    {
     "name": "stdout",
     "output_type": "stream",
     "text": [
      " Justitie (JUS)\n",
      " Justitie (JUS)\n",
      " Justitie (JUS)\n",
      " Justitie (JUS)\n",
      " Justitie (JUS)\n",
      " Justitie (JUS)\n",
      " Justitie (JUS)\n",
      " Justitie (JUS)\n",
      " Binnenlandse Zaken en Koninkrijksrelaties (BZK)\n",
      " Binnenlandse Zaken en Koninkrijksrelaties (BZK)\n"
     ]
    }
   ],
   "source": [
    "for i in index_t['vervolgen'][:10]:\n",
    "    print (kvrdf.ministerie[i])"
   ]
  },
  {
   "cell_type": "markdown",
   "metadata": {},
   "source": [
    "### Question 5"
   ]
  },
  {
   "cell_type": "code",
   "execution_count": 120,
   "metadata": {
    "collapsed": false
   },
   "outputs": [
    {
     "name": "stdout",
     "output_type": "stream",
     "text": [
      "Calculating mutual information...\n",
      " Justitie (JUS)\n",
      "[('Justitie', 0.009360525334229677), ('OM', 0.008434641662139362), ('Openbaar', 0.0075673146694576355), ('politie', 0.005479477009228581), ('asielzoekers', 0.005303434704004404), ('Jus', 0.004953267028319425), ('justitie', 0.004916605392324226), ('verdachte', 0.004571309332002282), ('Ministerie', 0.004108170588168028), ('criminelen', 0.003990730350736283)]\n",
      "\n",
      "\n",
      "\n",
      "Calculating mutual information...\n",
      " Volksgezondheid, Welzijn en Sport (VWS)\n",
      "[('zorg', 0.02143501844372219), ('VWS', 0.01744683865257183), ('patiënten', 0.017121431578551186), ('ziekenhuizen', 0.015381366592052248), ('Medisch', 0.010519907090232102), ('zorgverzekeraars', 0.009425743878921497), ('artsen', 0.009006320943273288), ('Gezondheidszorg', 0.00823600273196718), ('huisartsen', 0.007489049464990485), ('medische', 0.006280615122969339)]\n",
      "\n",
      "\n",
      "\n",
      "Calculating mutual information...\n",
      " Buitenlandse Zaken (BUZA)\n",
      "[('regering', 0.015701832424493585), ('Buitenlandse', 0.009824069741748476), ('Israël', 0.009548236722282208), ('Palestijnse', 0.009150913396368757), ('EU', 0.00891270786065038), ('Iran', 0.008817490944472478), ('BuZa', 0.007329366629078597), ('Zaken', 0.007090620763254217), ('president', 0.006866776601065241), ('VN', 0.006866776601065241)]\n",
      "\n",
      "\n",
      "\n",
      "Calculating mutual information...\n",
      " Verkeer en Waterstaat (VW)\n",
      "[('NS', 0.01374149619458236), ('VW', 0.007859396517441664), ('Verkeer', 0.007373263674129146), ('Waterstaat', 0.007215144531729202), ('Rijkswaterstaat', 0.007193984272500929), ('vervoer', 0.005902205239801254), ('ProRail', 0.0056708320479470645), ('Schiphol', 0.005557831664447031), ('treinen', 0.0049992091763518326), ('spoor', 0.0048830641582591925)]\n",
      "\n",
      "\n",
      "\n",
      "Calculating mutual information...\n",
      " Sociale Zaken en Werkgelegenheid (SZW)\n",
      "[('SZW', 0.013719231802435295), ('UWV', 0.010734523081183077), ('werknemers', 0.010372687742324882), ('WAO', 0.006773219801500578), ('uitkering', 0.006567362984115267), ('sociale', 0.0063575880866241705), ('Sociale', 0.005626331991618305), ('werkgevers', 0.0055335008320007515), ('arbeid', 0.004036490899377715), ('werk', 0.004028835137760238)]\n",
      "\n",
      "\n",
      "\n",
      "Calculating mutual information...\n",
      " Onderwijs, Cultuur en Wetenschappen (OCW)\n",
      "[('onderwijs', 0.0267275751445139), ('scholen', 0.02579389705545964), ('leerlingen', 0.021303250690547802), ('school', 0.014138375672856921), ('OCW', 0.013305485555941498), ('studenten', 0.010975277423209409), ('voortgezet', 0.008610670042641204), ('basisscholen', 0.00631562056398678), ('Onderwijs', 0.005820748914685248), ('universiteiten', 0.004995339986471482)]\n",
      "\n",
      "\n",
      "\n",
      "Calculating mutual information...\n",
      " Volkshuisvesting, Ruimtelijke Ordening en Milieubeheer (VROM)\n",
      "[('VROM', 0.01265430767427168), ('afval', 0.0070049697490068615), ('woningen', 0.006765521725376469), ('huursubsidie', 0.00490396359416872), ('stoffen', 0.00332590168776093), ('woningcorporatie', 0.0032543269991192163), ('bouwen', 0.0029297656958539326), ('bedrijventerrein', 0.002635816821442481), ('gemeente', 0.0024826052350370126), ('huurwoningen', 0.0023562129370616313)]\n",
      "\n",
      "\n",
      "\n",
      "Calculating mutual information...\n",
      " Financiën (FIN)\n",
      "[('Belastingdienst', 0.016595764657736142), ('fiscale', 0.007269652251399545), ('Financiën', 0.006472711803237474), ('Fin', 0.004655646916585509), ('AFM', 0.004086271814143804), ('Bank', 0.004004859404706629), ('belastingdienst', 0.0037614371144189234), ('belasting', 0.003287226091785663), ('inkomstenbelasting', 0.0032127116249337463), ('Nederlandsche', 0.003132325041420311)]\n",
      "\n",
      "\n",
      "\n",
      "Calculating mutual information...\n",
      " Economische Zaken (EZ)\n",
      "[('EZ', 0.009817272786934634), ('NMa', 0.005061482995562803), ('bedrijven', 0.004888489565921412), ('energiebedrijven', 0.004155912246367432), ('gas', 0.003933782269808786), ('stroom', 0.0035639815569664807), ('elektriciteit', 0.0033147441323342886), ('UPC', 0.0027388429337795225), ('liberalisering', 0.0027388429337795225), ('consumenten', 0.0026783675002083076)]\n",
      "\n",
      "\n",
      "\n",
      "Calculating mutual information...\n",
      " Binnenlandse Zaken en Koninkrijksrelaties (BZK)\n",
      "[('politie', 0.01595381306330623), ('BZK', 0.005462689716087059), ('burgemeester', 0.005300791520978012), ('politieagenten', 0.004301388678476948), ('politiemensen', 0.0031412585804162447), ('agenten', 0.002995868215095751), ('Remkes', 0.002758402856759051), ('brandweer', 0.002687291759121915), ('gemeente', 0.0025383446782845324), ('AmsterdamAmstelland', 0.0022661371677418765)]\n",
      "\n",
      "\n",
      "\n"
     ]
    }
   ],
   "source": [
    "#For each class, show the top 10 words as in Figure 13.7 in MRS.\n",
    "\n",
    "V = list(BoW)\n",
    "# for c in range(len(normalized_ministerie)):\n",
    "for c in range(len(normalized_ministerie)):\n",
    "    scores = dict()\n",
    "    print(\"Calculating mutual information...\")\n",
    "    for t in V:\n",
    "        scores[t] = mutualInformation(t, c)\n",
    "    top_ten = sorted(scores.items(), key = lambda x: x[1], reverse=True)[:10]\n",
    "    print(ministerie_names[c])\n",
    "    print(top_ten)\n",
    "    print(\"\\n\\n\")\n"
   ]
  }
 ],
 "metadata": {
  "kernelspec": {
   "display_name": "Python 3",
   "language": "python",
   "name": "python3"
  },
  "language_info": {
   "codemirror_mode": {
    "name": "ipython",
    "version": 3
   },
   "file_extension": ".py",
   "mimetype": "text/x-python",
   "name": "python",
   "nbconvert_exporter": "python",
   "pygments_lexer": "ipython3",
   "version": "3.5.2"
  }
 },
 "nbformat": 4,
 "nbformat_minor": 0
}
