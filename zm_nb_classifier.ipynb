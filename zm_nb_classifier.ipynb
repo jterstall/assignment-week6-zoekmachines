{
 "cells": [
  {
   "cell_type": "markdown",
   "metadata": {},
   "source": [
    "# Assignment  Practice Text classification with Naive Bayes "
   ]
  },
  {
   "cell_type": "markdown",
   "metadata": {},
   "source": [
    "## Notebook made by   (If not filled in correctly: 0 pts for assignment)\n",
    "\n",
    "__Name(s)__: \n",
    "\n",
    "__Student id(s)__ : \n",
    "\n",
    "### Pledge (taken from [Coursera's Honor Code](https://www.coursera.org/about/terms/honorcode) )\n",
    "\n",
    "\n",
    "\n",
    "Put here a selfie with your photo where you hold a signed paper with the following text: (if this is team work, put two selfies here). The link must be to some place on the web, not to a local file. **Assignments without the selfies will not be graded and receive 0 points.**\n",
    "\n",
    "> My answers to homework, quizzes and exams will be my own work (except for assignments that explicitly permit collaboration).\n",
    "\n",
    ">I will not make solutions to homework, quizzes or exams available to anyone else. This includes both solutions written by me, as well as any official solutions provided by the course staff.\n",
    "\n",
    ">I will not engage in any other activities that will dishonestly improve my results or dishonestly improve/hurt the results of others.\n",
    "\n",
    "<img src='link to your selfie'/>"
   ]
  },
  {
   "cell_type": "markdown",
   "metadata": {},
   "source": [
    "# Some example code"
   ]
  },
  {
   "cell_type": "code",
   "execution_count": 30,
   "metadata": {
    "collapsed": false
   },
   "outputs": [
    {
     "name": "stdout",
     "output_type": "stream",
     "text": [
      "(40516, 6)\n"
     ]
    },
    {
     "data": {
      "text/html": [
       "<div>\n",
       "<table border=\"1\" class=\"dataframe\">\n",
       "  <thead>\n",
       "    <tr style=\"text-align: right;\">\n",
       "      <th></th>\n",
       "      <th>jaar</th>\n",
       "      <th>partij</th>\n",
       "      <th>titel</th>\n",
       "      <th>vraag</th>\n",
       "      <th>antwoord</th>\n",
       "      <th>ministerie</th>\n",
       "    </tr>\n",
       "  </thead>\n",
       "  <tbody>\n",
       "    <tr>\n",
       "      <th>KVR1000.xml</th>\n",
       "      <td>1994</td>\n",
       "      <td>PvdA</td>\n",
       "      <td>De vragen betreffen de betrouwbaarheid van de...</td>\n",
       "      <td>Hebt u kennisgenomen van het televisieprogram...</td>\n",
       "      <td>Ja. Het bedoelde geluidmeetpunt is eigendom v...</td>\n",
       "      <td>Verkeer en Waterstaat</td>\n",
       "    </tr>\n",
       "    <tr>\n",
       "      <th>KVR10000.xml</th>\n",
       "      <td>1999</td>\n",
       "      <td>PvdA</td>\n",
       "      <td>Vragen naar aanleiding van berichten (uitzend...</td>\n",
       "      <td>Kent u de berichten over de situatie in de Me...</td>\n",
       "      <td></td>\n",
       "      <td>Justitie</td>\n",
       "    </tr>\n",
       "    <tr>\n",
       "      <th>KVR10001.xml</th>\n",
       "      <td>1999</td>\n",
       "      <td>SP</td>\n",
       "      <td>Vragen naar aanleiding van de berichten \"Nede...</td>\n",
       "      <td>Kent u de berichten «Nederland steunt de Soeh...</td>\n",
       "      <td></td>\n",
       "      <td>Financien</td>\n",
       "    </tr>\n",
       "    <tr>\n",
       "      <th>KVR10002.xml</th>\n",
       "      <td>1999</td>\n",
       "      <td>PvdA</td>\n",
       "      <td>Vragen over de gebrekkige opvang van verpleeg...</td>\n",
       "      <td>Kent u het bericht over onderzoek van Nu91 me...</td>\n",
       "      <td>Ja. Het onderzoek van NU’91 wijst uit dat het...</td>\n",
       "      <td>Volksgezondheid, Welzijn en Sport</td>\n",
       "    </tr>\n",
       "    <tr>\n",
       "      <th>KVR10003.xml</th>\n",
       "      <td>1999</td>\n",
       "      <td>PvdA</td>\n",
       "      <td>Vragen over onbetrouwbaarheid van filemeldingen.</td>\n",
       "      <td>Hebt u kennisgenomen van de berichten over de...</td>\n",
       "      <td>Ja. Nee. Door de waarnemers van het Algemeen ...</td>\n",
       "      <td>Verkeer en Waterstaat</td>\n",
       "    </tr>\n",
       "  </tbody>\n",
       "</table>\n",
       "</div>"
      ],
      "text/plain": [
       "                jaar partij  \\\n",
       "KVR1000.xml     1994   PvdA   \n",
       " KVR10000.xml   1999   PvdA   \n",
       " KVR10001.xml   1999     SP   \n",
       " KVR10002.xml   1999   PvdA   \n",
       " KVR10003.xml   1999   PvdA   \n",
       "\n",
       "                                                           titel  \\\n",
       "KVR1000.xml     De vragen betreffen de betrouwbaarheid van de...   \n",
       " KVR10000.xml   Vragen naar aanleiding van berichten (uitzend...   \n",
       " KVR10001.xml   Vragen naar aanleiding van de berichten \"Nede...   \n",
       " KVR10002.xml   Vragen over de gebrekkige opvang van verpleeg...   \n",
       " KVR10003.xml   Vragen over onbetrouwbaarheid van filemeldingen.   \n",
       "\n",
       "                                                           vraag  \\\n",
       "KVR1000.xml     Hebt u kennisgenomen van het televisieprogram...   \n",
       " KVR10000.xml   Kent u de berichten over de situatie in de Me...   \n",
       " KVR10001.xml   Kent u de berichten «Nederland steunt de Soeh...   \n",
       " KVR10002.xml   Kent u het bericht over onderzoek van Nu91 me...   \n",
       " KVR10003.xml   Hebt u kennisgenomen van de berichten over de...   \n",
       "\n",
       "                                                        antwoord  \\\n",
       "KVR1000.xml     Ja. Het bedoelde geluidmeetpunt is eigendom v...   \n",
       " KVR10000.xml                                                      \n",
       " KVR10001.xml                                                      \n",
       " KVR10002.xml   Ja. Het onderzoek van NU’91 wijst uit dat het...   \n",
       " KVR10003.xml   Ja. Nee. Door de waarnemers van het Algemeen ...   \n",
       "\n",
       "                                       ministerie  \n",
       "KVR1000.xml                 Verkeer en Waterstaat  \n",
       " KVR10000.xml                            Justitie  \n",
       " KVR10001.xml                           Financien  \n",
       " KVR10002.xml   Volksgezondheid, Welzijn en Sport  \n",
       " KVR10003.xml               Verkeer en Waterstaat  "
      ]
     },
     "execution_count": 30,
     "metadata": {},
     "output_type": "execute_result"
    }
   ],
   "source": [
    "import pandas as pd\n",
    "\n",
    "# Change to KVR1000.csv.gz if this becomes to0 slow for you\n",
    "# normal KVR.csv.gz\n",
    "# subset = KVR1000.csv\n",
    "kvrdf= pd.read_csv('KVR.csv.gz', \n",
    "                   sep='\\t', encoding='utf-8',\n",
    "                   index_col=0, \n",
    "                   names=['jaar', 'partij','titel','vraag','antwoord','ministerie']) \n",
    "print (kvrdf.shape)\n",
    "kvrdf.head()"
   ]
  },
  {
   "cell_type": "code",
   "execution_count": 98,
   "metadata": {
    "collapsed": false
   },
   "outputs": [
    {
     "data": {
      "text/plain": [
       " Justitie (JUS)                                                   3219\n",
       " Volksgezondheid, Welzijn en Sport (VWS)                          2630\n",
       " Buitenlandse Zaken (BUZA)                                        1796\n",
       " Verkeer en Waterstaat (VW)                                       1441\n",
       " Justitie                                                         1333\n",
       " Sociale Zaken en Werkgelegenheid (SZW)                           1231\n",
       " Onderwijs, Cultuur en Wetenschappen (OCW)                        1187\n",
       " Volkshuisvesting, Ruimtelijke Ordening en Milieubeheer (VROM)     984\n",
       " Financiën (FIN)                                                   960\n",
       " Volksgezondheid, Welzijn en Sport                                 951\n",
       "dtype: int64"
      ]
     },
     "execution_count": 98,
     "metadata": {},
     "output_type": "execute_result"
    }
   ],
   "source": [
    "kvrdf.ministerie.value_counts().head(10)"
   ]
  },
  {
   "cell_type": "code",
   "execution_count": 99,
   "metadata": {
    "collapsed": false
   },
   "outputs": [
    {
     "name": "stdout",
     "output_type": "stream",
     "text": [
      "10075650  De vragen betreffen de betrouwbaarheid van de geluidsmetingen op Schiphol\n",
      " Vragen naar aanleiding van berichten uitzending NOVA 17 juli 1999 over onderzoeken van de Rijksrecherche waaruit blijt dat er twijfels bestaan over het professioneel gedrag van vier medewerkers van de kliniek\n",
      " Vragen naar aanleiding van de berichten Nederland steunt Soehartos fiscaal en Wij hebben een naam hoog te houden in NRC van 22 juli 1999\n",
      " Vragen over de gebrekkige opvang van verpleegkundigen met traumatische ervaringen door ziekenhuizen en zorginstellingen\n",
      " Vragen over onbetrouwbaarheid van filemeldingen\n",
      " Vragen naar aanleiding van het bericht in de Volkskrant van 7 juli 1999 dat het RIVM onjuiste gegevens zou hebben gehanteerd en gepresenteerd wat betreft de milieuaspecten van de Betuwelijn\n",
      " \n",
      " Vragen naar aanleiding van het artikel Eilander artsen vechten voor waarneming in de Leeuwarder Courant van 26 juni 1999 Deze vragen dienen ter aanvulling op eerdere vragen van de leden Van BlerckWoerdman en Te Ve\n"
     ]
    }
   ],
   "source": [
    "import nltk\n",
    "import string\n",
    "from collections import Counter\n",
    "\n",
    "# Join all titels of the questions together\n",
    "allvragen = '\\n'.join(str(v) for v in list(kvrdf.titel))\n",
    "\n",
    "# remove punctuation\n",
    "allvragen = allvragen.translate(str.maketrans({key: None for key in string.punctuation}))\n",
    "\n",
    "\n",
    "print (len(allvragen), allvragen[:1000])"
   ]
  },
  {
   "cell_type": "code",
   "execution_count": 68,
   "metadata": {
    "collapsed": false
   },
   "outputs": [
    {
     "data": {
      "text/plain": [
       "[('de', 105875),\n",
       " ('van', 98546),\n",
       " ('het', 48956),\n",
       " ('in', 36051),\n",
       " ('en', 30934),\n",
       " ('een', 27234),\n",
       " ('over', 22818),\n",
       " ('Vragen', 20820),\n",
       " ('op', 19408),\n",
       " ('dat', 18593),\n",
       " ('te', 17443),\n",
       " ('naar', 16878),\n",
       " ('voor', 15251),\n",
       " ('aanleiding', 12074),\n",
       " ('met', 11486),\n",
       " ('is', 11043),\n",
       " ('aan', 9982),\n",
       " ('die', 8845),\n",
       " ('zijn', 8565),\n",
       " ('vragen', 7987)]"
      ]
     },
     "execution_count": 68,
     "metadata": {},
     "output_type": "execute_result"
    }
   ],
   "source": [
    "# Tokenize and turn into a bag of words\n",
    "BoW = Counter(nltk.word_tokenize(allvragen))\n",
    "# show the top 20 most used words \n",
    "BoW.most_common(20)"
   ]
  },
  {
   "cell_type": "code",
   "execution_count": 70,
   "metadata": {
    "collapsed": false
   },
   "outputs": [
    {
     "name": "stdout",
     "output_type": "stream",
     "text": [
      "101\n"
     ]
    },
    {
     "data": {
      "text/plain": [
       "[('Vragen', 20820),\n",
       " ('aanleiding', 12074),\n",
       " ('vragen', 7987),\n",
       " ('De', 5966),\n",
       " ('bericht', 4549),\n",
       " ('minister', 4328),\n",
       " ('artikel', 3269),\n",
       " ('Nederlandse', 3138),\n",
       " ('Nederland', 3033),\n",
       " ('nr', 2769),\n",
       " ('2007', 2746),\n",
       " ('eerdere', 2662),\n",
       " ('Indiener', 2562),\n",
       " ('Is', 2538),\n",
       " ('1', 2273),\n",
       " ('ingezonden', 2235),\n",
       " ('Betreft', 2111),\n",
       " ('ter', 2108),\n",
       " ('ten', 2097),\n",
       " ('onderzoek', 2094)]"
      ]
     },
     "execution_count": 70,
     "metadata": {},
     "output_type": "execute_result"
    }
   ],
   "source": [
    "from nltk.corpus import stopwords\n",
    "\n",
    "DutchStop= stopwords.words('dutch')\n",
    "print (len(DutchStop))\n",
    "\n",
    "BoW= BoW= Counter([w for w in nltk.word_tokenize(allvragen) if not w in set(DutchStop)])\n",
    "# show the top 20 most used words \n",
    "BoW.most_common(20)"
   ]
  },
  {
   "cell_type": "markdown",
   "metadata": {},
   "source": [
    "# Practice Text classification with Naive Bayes  \n",
    "        \n",
    "        \n",
    "        \n",
    "<h3>Abstract</h3>\n",
    "<p>We will do text classification on a collection of Dutch parliamentary questions.\n",
    "    The website <a href=\"https://zoek.officielebekendmakingen.nl/zoeken/parlementaire_documenten\">officielebekendmakingen.nl</a>lets you search in \"kamervragen\".\n",
    "    You can donwload\n",
    "    <a href='http://data.politicalmashup.nl/kamervragen/PoliDocs_Kamervragen.zip'>this zipfile with Kamervragen in XML</a>\n",
    "    to see some of the  data in XML format. \n",
    "    It also contains style sheets to show the XML well in a browser.  \n",
    "    The <a href='http://maartenmarx.nl/teaching/zoekmachines/LectureNotes/MySQL/'>MYSQL directory</a> contains an <a href='http://maartenmarx.nl/teaching/zoekmachines/LectureNotes/MySQL/KVR14807.xml'>example   Kamervraag XML file</a>. Note that in your browser you see the result of applying stylesheets. So choose View Source or open it in an editor.</p>\n",
    "\n",
    "<h3>First exploration</h3>\n",
    "\n",
    "See below.\n",
    "\n",
    "<h2>Exercise</h2>\n",
    "\n",
    "<p>We will use the fields in elements of the form <tt> &lt;item attribuut=\"Afkomstig_van\"></tt> as our classes. \n",
    "    These are the ministeries to whom the question is addressed.\n",
    "    An example is \n",
    "    <pre>\n",
    "        &lt;item attribuut=\"Afkomstig_van\">Landbouw, Natuurbeheer en Visserij (LNV)&lt;/item>\n",
    "    </pre>\n",
    "    Note that these labels are <strong>not normalized</strong>, see e.g. the counts below:\n",
    "    <pre>\n",
    "Justitie (JUS)                                                   3219\n",
    "Volksgezondheid, Welzijn en Sport (VWS)                          2630\n",
    "Buitenlandse Zaken (BUZA)                                        1796\n",
    "Verkeer en Waterstaat (VW)                                       1441\n",
    "Justitie                                                         1333\n",
    "Sociale Zaken en Werkgelegenheid (SZW)                           1231\n",
    "Onderwijs, Cultuur en Wetenschappen (OCW)                        1187\n",
    "Volkshuisvesting, Ruimtelijke Ordening en Milieubeheer (VROM)     984\n",
    "FinanciÃ«n (FIN)                                                   960\n",
    "Volksgezondheid, Welzijn en Sport                                 951\n",
    "Economische Zaken (EZ)                                            946\n",
    "Buitenlandse Zaken                                                753\n",
    "Binnenlandse Zaken en Koninkrijksrelaties (BZK)                   725\n",
    "Verkeer en Waterstaat                                             724\n",
    "Defensie (DEF)                                                    646\n",
    "Sociale Zaken en Werkgelegenheid                                  607\n",
    "Landbouw, Natuurbeheer en Visserij (LNV)                          586\n",
    "Volkshuisvesting, Ruimtelijke Ordening en Milieubeheer            554\n",
    "Onderwijs, Cultuur en Wetenschappen                               532\n",
    "Vreemdelingenzaken en Integratie (VI)                             466\n",
    "    </pre>\n",
    "</p>\n",
    "\n",
    "  <ol>\n",
    "      <li>Normalize the values for \"ministerie\" and choose 10 ministeries to work with. </li>\n",
    "      <li>Implement the two algorithms in Fig MRS.13.2, using your earlier code for creating term and document frequencies.\n",
    "      It might be easier to use the representation and formula given in MRS section 13.4.1.</li>\n",
    "      <li>On this collection, train NB text classifiers for 10 different classes with enough and interesting data.</li>\n",
    "      <li>Compute for each term and each of your 10 classes its utility for that class using mutual information.</li>\n",
    "      <li>For each class, show the top 10 words as in Figure 13.7 in MRS.</li>\n",
    "      <li>Evaluate your classifiers using Precision, Recall and F1. (\n",
    "           <br/>\n",
    "          Give a table in which you show these values for using the top 10, top 100 terms and all terms, for all of your 10 classes.\n",
    "          Thus do feature selection per class, and use for each class the top n best features for that class. \n",
    "          <br/>\n",
    "      Also show the microaverage(s) for all 10 classes together.\n",
    "      <br/>\n",
    "      If you like you can also present this in a figure like MRS.13.8. \n",
    "      Then compute the F1 measure for the same number of terms as in that figure.</li>\n",
    "      <li>Reflect and report briefly about your choices in this process and about the obtained results. </li>\n",
    "  </ol>\n",
    "\n",
    "<h3>Training/Testing</h3>\n",
    "<p>It is important that you do not test your classifier using documents that have also been used in training.\n",
    "    So split up your collection in a training set and a test set. A 80%-20% split is reasonable.\n",
    "\n",
    "<br/>\n",
    "    If you have too little data you can use 5 or <a href=\"http://en.wikipedia.org/wiki/Cross-validation_(statistics)#k-fold_cross-validation\">10-fold cross validation</a>.</p>\n",
    "\n",
    "<h2>Form of presentation</h2>\n",
    "<ul>\n",
    "    <li>Make slides or wikipages and have your system running and be able to accept documents from the web. </li>\n",
    "    <li>Create one or two slides or wikipages for each of the sub exercises listed above.\n",
    "</li>\n",
    "<li>Make it clear in the heading of the slides which sub exercises you talk about.</li>\n",
    "    <li>Show running code with one or two  good examples (a TP of course, but also a FP and an error-analysis is nice to show). </li>\n",
    "\n",
    "</ul>\n",
    "\n",
    "<h2>Form of handing in your final product</h2>\n",
    "<ul>\n",
    "    <li>An IPython notebook would be perfect, with clear indications which part of the code answers which subquestion.</li>\n",
    "    <li>A clear git repo, with good comments and a clear separation and indication what code does what is also fine.</li>\n",
    "    <li> You are free to program in whatever language you prefer.</li>\n",
    "</ul>\n"
   ]
  },
  {
   "cell_type": "markdown",
   "metadata": {
    "collapsed": true
   },
   "source": [
    "### Question 1"
   ]
  },
  {
   "cell_type": "code",
   "execution_count": 97,
   "metadata": {
    "collapsed": false
   },
   "outputs": [
    {
     "name": "stdout",
     "output_type": "stream",
     "text": [
      " Justitie (JUS)                                                   0.118393\n",
      " Volksgezondheid, Welzijn en Sport (VWS)                          0.096730\n",
      " Buitenlandse Zaken (BUZA)                                        0.066056\n",
      " Verkeer en Waterstaat (VW)                                       0.052999\n",
      " Justitie                                                         0.049027\n",
      " Sociale Zaken en Werkgelegenheid (SZW)                           0.045276\n",
      " Onderwijs, Cultuur en Wetenschappen (OCW)                        0.043657\n",
      " Volkshuisvesting, Ruimtelijke Ordening en Milieubeheer (VROM)    0.036191\n",
      " Financiën (FIN)                                                  0.035308\n",
      " Volksgezondheid, Welzijn en Sport                                0.034977\n",
      "dtype: float64\n"
     ]
    }
   ],
   "source": [
    "normalized_ministerie = kvrdf.ministerie.value_counts().head(10) / sum(kvrdf.ministerie.value_counts())\n",
    "\n",
    "print(normalized_ministerie)"
   ]
  },
  {
   "cell_type": "markdown",
   "metadata": {},
   "source": [
    "### Question 2"
   ]
  },
  {
   "cell_type": "code",
   "execution_count": null,
   "metadata": {
    "collapsed": true
   },
   "outputs": [],
   "source": []
  }
 ],
 "metadata": {
  "kernelspec": {
   "display_name": "Python 3",
   "language": "python",
   "name": "python3"
  },
  "language_info": {
   "codemirror_mode": {
    "name": "ipython",
    "version": 3
   },
   "file_extension": ".py",
   "mimetype": "text/x-python",
   "name": "python",
   "nbconvert_exporter": "python",
   "pygments_lexer": "ipython3",
   "version": "3.4.3"
  }
 },
 "nbformat": 4,
 "nbformat_minor": 0
}
